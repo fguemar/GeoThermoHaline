{
 "cells": [
  {
   "cell_type": "markdown",
   "id": "969d5fec",
   "metadata": {},
   "source": [
    "# <center>Ejercicio: uso de un simulador para el secuestro geológico de CO$_2$ en un sistema hidrotermal<center> "
   ]
  },
  {
   "cell_type": "markdown",
   "id": "71e3b8ea",
   "metadata": {},
   "source": [
    "### Trabajo realizado con el apoyo del Programa UNAM-DGAPA-PAPIME\n",
    "Autores:\n",
    "- Brenda Lizette De la Rosa Espinoza\n",
    "- Fernando Javier Guerrero Martinez\n",
    "\n",
    "Licensed under <a href=\"http://creativecommons.org/licenses/by-sa/4.0/?ref=chooser-v1\" target=\"_blank\" rel=\"license noopener noreferrer\" style=\"display:inline-block;\">Attribution-ShareAlike 4.0 International<img style=\"height:22px!important;margin-left:3px;vertical-align:text-bottom;\" src=\"https://mirrors.creativecommons.org/presskit/icons/cc.svg?ref=chooser-v1\"><img style=\"height:22px!important;margin-left:3px;vertical-align:text-bottom;\" src=\"https://mirrors.creativecommons.org/presskit/icons/by.svg?ref=chooser-v1\"><img style=\"height:22px!important;margin-left:3px;vertical-align:text-bottom;\" src=\"https://mirrors.creativecommons.org/presskit/icons/sa.svg?ref=chooser-v1\"></a></p> \n",
    "\n",
    "Rev: 17/02/2024"
   ]
  },
  {
   "cell_type": "markdown",
   "id": "b4405ba6",
   "metadata": {},
   "source": [
    "### Introducción\n",
    "</p>\n",
    "\n",
    "<div class=text-justify>\n",
    "En respuesta a los desafíos que se derivan del cambio climático nuestro país ha generado un marco legal e institucional expuesto en la Ley General de Cambio Climático (LGCC), la cual contempla instrumentos como el Programa Nacional de Cambio Climático (PECC). Dicho programa contiene una serie de objetivos y líneas de acción. Ente otros, se propone \"Diseñar la ruta crítica de Captura, Uso y Almacenamiento de Carbono (CCUS) e implementar proyectos piloto en CFE y para recuperación mejorada de petróleo en Pemex\".</div></p>\n",
    "\n",
    "<div class=text-justify> Existen diversas estrategias de secuestro geológico de CO$_2$, todas ellas contienen retos en cuanto a su seguridad y factibilidad técnica y económica. De estas técnicas, el secuestro de CO$_2$ en yacimientos agotados de petróleo y gas, y en acuíferos salinos e hidrotermales se considera una de las más factibles y mejor comprendidas, puesto que estos yacimientos de manera natural han almacenado fluidos y gases (incluido el CO$_2$) por tiempos en la escala de millones de años.\n",
    "</div></p>\n",
    "\n",
    "<div class=text-justify>\n",
    "Durante la inyección de CO$_2$ ocurren tres mecanismos que retienen el CO$_2$: hidrodinámico, disolución y precipitación mineral.  La importancia de cada mecanismo y, por tanto, la estrategia de inyección depende de las características del yacimiento: estructura, porosidad y permeabilidad de las rocas, así como la química de la formación geológica y del fluido ambiente.\n",
    "</div></p>\n",
    "\n",
    "    \n",
    "<center><img src=https://www.norskpetroleum.no/wp-content/uploads/CO2-Sleipner-Photo-Alligator-film-_BUG-Statoil_600x300.jpg><center>"
   ]
  },
  {
   "cell_type": "markdown",
   "id": "c698df89",
   "metadata": {},
   "source": [
    "### Objetivo \n",
    "<p style='text-align: justify;'> Utilizar una herramienta de cómputo para el estudio del transporte por disolución de CO$_2$ en un medio poroso saturado de fluido y sometido a un gradiente de temperatura. Estas condiciones buscan emular las características de un acuífero profundo expuesto a una capa de gas en la parte superior. </p>"
   ]
  },
  {
   "cell_type": "markdown",
   "id": "855cbcc7",
   "metadata": {},
   "source": [
    "### Definición del problema\n",
    "</p>\n",
    "<div class=text-justify> Se considera un medio poroso en dos dimensiones saturado de fluido y sometido a dos gradientes: uno de temperatura y otro asociado a la concentración de un soluto, los cuales  pueden dar lugar a convección natural (termohalina) (Figura 1). Adicionalmente el medio puede estar sujeto a un pequeño ángulo de inclinación. El soluto puede entrar al sistema por la tapa, pero no salir de éste. Por su parte, se considera que las paredes laterales están aisladas térmicamente, y la base y tapa se encuentran a temperaturas constates: caliente en la base y fría en la tapa. El sistema parte de una condición inicial y se evalúa su evolución temporal. </div></p>\n",
    "\n",
    "<div class=text-justify> Un estudio detallado de la importancia de este modelo para el problema de secuestro geológico de CO$_2$ se encuentra en el trabajo de Ennis-King y Paterson (2005), quienes evalúan el mezclado convectivo de dióxido de carbono en acuíferos salinos. Estos procesos de mezclado son de gran importancia en la evaluación de los mecanismos de secuestro geológico, puesto que de existir mezclado se favorecería el secuestro por disolución y por precipitación mineral, lo cual es deseable en el secuestro geológico a largo plazo. </div></p>\n",
    "\n",
    "<center><img src=\"m_conceptual.jpg\" alt=\"drawing\" width=\"400\"/><center>\n",
    "<center> Figura 1. Diagrama esquemático del problema estudiado</center>"
   ]
  },
  {
   "cell_type": "markdown",
   "id": "7e9135ca",
   "metadata": {},
   "source": [
    "### Modelo conceptual\n",
    "\n",
    "El modelo se basa en las siguientes suposiciones:\n",
    "    \n",
    "1. El medio poroso es **homogéneo e isotrópico**. Un medio homogéneo supone que sus propiedades físicas son invariables en el espacio (las coordenadas x-y en este caso). La isotropía por su parte, significa que tiene la misma capacidad para el transporte de energía todas las direcciones. En el problema que nos ocupa la energía que se transporta en el medio es calor, masa y momento, y suponemos que el medio es isotrópico para todas estas tres formas de energía.</p>\n",
    "\n",
    "2. El flujo de fluido está gobernado por la **Ley de Darcy**. La ley de Darcy establece en su forma más general que el flujo volumétrico de un fluido por unidad de área es proporcional al gradiente de la altura piezométrica, esta variable es la suma de la presión más la altura. </p>\n",
    "\n",
    "3. El sistema cumple con la condición de **equilibrio térmico local**. Esto significa que el fluido y el medio poroso tienen la misma temperatura en cada punto del espacio, de modo que no hay transferencia de calor entre el fluido y la matriz porosa. </p>\n",
    "\n",
    "4. Para modelar la convección termohalina se aplica la **aproximación de Boussinesq**. La aproximación de Boussinesq establece que la densidad del fluido se puede tratar como una constante, excepto para las fuerzas de cuerpo asociadas a la flotación. Es decir, solo se considera variable dentro de la ecuación de momento que se deriva de la Ley de Darcy, y es constante en el resto del problema matemático. </p>\n",
    "\n"
   ]
  },
  {
   "cell_type": "markdown",
   "id": "3b752207",
   "metadata": {},
   "source": [
    "### Modelo matemático\n",
    "</p>\n",
    "<div class=text-justify> A partir de la definición hecha anteriormente se requieren tres ecuaciones para tres incógnitas del sistema: temperatura, concentración del soluto y velocidad del fluido. Las dos primeras son campos escalares, mientras que la velocidad se trata de un campo vectorial. La literatura dedicada al transporte en medios porosos nos proporciona las siguientes ecuaciones en forma adimensional:  </div></p>\n",
    "\n",
    "**Simbología**\n",
    "\n",
    "|<p style='text-align: center;'>*Letras romanas*</p>|<p style='text-align: center;'>*Símbolos griegos*</p>|\n",
    "|--------------|----------------|\n",
    "|<p style='text-align: left;'>$B$- Altura del medio poroso</p>|<p style='text-align: left;'>$\\alpha $-   Difusividad térmica</p>|\n",
    "|<p style='text-align: left;'>$C$-   Ancho del medio poroso</p>|<p style='text-align: left;'>$\\beta $-  Coeficiente de expansión volumétrica</p>|\n",
    "|<p style='text-align: left;'>$D$-   Difusividad de masa</p>|<p style='text-align: left;'>$\\epsilon $-  Porosidad normalizada $(\\phi/\\sigma)$</p>|\n",
    "|<p style='text-align: left;'>$g$-   Constante gravitacional</p>|<p style='text-align: left;'>$\\nu $-  Viscosidad cinemática </p>|\n",
    "|<p style='text-align: left;'>$k$-   Permeabilidad</p>|<p style='text-align: left;'>$\\phi $-  Porosidad</p>|\n",
    "|<p style='text-align: left;'>$Le$-   Numero de Lewis</p>|<p style='text-align: left;'>$\\psi $-  Función de corriente</p>|\n",
    "|<p style='text-align: left;'>$N$-   Relación de flotación</p>|<p style='text-align: left;'>$\\sigma$- Relación de capacidades caloríficas sólido-líquido</p>|\n",
    "|<p style='text-align: left;'>$Ra$-   Número de Rayleigh</p>|<p style='text-align: left;'>$\\theta $-  Ángulo de inclinación</p>|\n",
    "|<p style='text-align: left;'>$S$-   Concentración de soluto</p>||\n",
    "|<p style='text-align: left;'>$T$-   Temperatura</p>||\n",
    "|<p style='text-align: left;'>$t$-   Tiempo</p>||\n",
    "|<p style='text-align: left;'>$u$-   Velocidad de Darcy</p>||\n",
    "|<p style='text-align: left;'>$x, y$-   Coordenadas cartesianas</p>||\n",
    "\n",
    "**Ecuación de transporte de calor**\n",
    "\n",
    "\\begin{align}\n",
    "\\frac{\\partial T}{\\partial  t}-\\nabla^2T+\\textbf{u}\\cdot\\nabla\\ T=0,\n",
    "\\end{align}\n",
    "\n",
    "**Ecuación de transporte de masa**\n",
    "\n",
    "\\begin{align}\n",
    "\\epsilon \\frac{\\partial  S}{\\partial  t}-\\frac{1}{Le}\\nabla^2 S+\\textbf{u}\\cdot\\nabla  S=0,\n",
    "\\end{align}\n",
    "\n",
    "**Ecuación de momento**\n",
    "\n",
    "\\begin{align}\n",
    "\\frac{1}{Ra} \\nabla^2\\psi=\\left( \\frac{\\partial T}{\\partial x}+N \\frac{\\partial S}{\\partial  x} \\right) \\cos \\theta-\\left( \\frac{\\partial T}{\\partial  y}+N\\frac{\\partial S}{\\partial  y}\\right) \\sin\\ \\theta, \n",
    "\\end{align}\n",
    "\n",
    "\n",
    "\n",
    "**Las condiciones de frontera para este sistema son las siguientes:**\n",
    "\n",
    "Ecuación de transporte de calor\n",
    "\n",
    "\\begin{align}\n",
    "\\frac{\\partial T}{\\partial x}&=0, \\ \\ \\  \\text{para} \\ \\ \\  x=0 \\ \\ \\ \\text{y}\\ \\ \\  x=3, \\\\\n",
    "T&=1, \\ \\ \\  \\text{para} \\ \\ \\  y=0 \\ \\ \\ \\text{y} \\ \\ \\  t>0, \\\\\n",
    "T&=0, \\ \\ \\  \\text{para} \\ \\ \\  y=1 \\ \\ \\ \\text{y} \\ \\ \\  t>0.\n",
    "\\end{align}\n",
    "\n",
    "Ecuación de transporte de masa\n",
    "\n",
    "\\begin{align}\n",
    "\\frac{\\partial S}{\\partial x}&=0, \\ \\ \\  \\text{para} \\ \\ \\  x=0 \\ \\ \\ \\text{y}\\ \\ \\  x=3, \\\\\n",
    "\\frac{\\partial S}{\\partial y}&=0, \\ \\ \\  \\text{para} \\ \\ \\  y=0, \\\\\n",
    "S&=1, \\ \\ \\  \\text{para} \\ \\ \\  y=1 \\ \\ \\ \\text{y} \\ \\ \\  t>0.\n",
    "\\end{align}\n",
    "\n",
    "Para la ecuación de momento se impone que $\\psi=0$ en las fronteras para satisfacer la condición de no flujo a través de las paredes\n",
    "\n",
    "\\begin{align}\n",
    "\\psi&=0, \\ \\ \\  \\text{for} \\ \\ \\  x=0 \\ \\ \\ \\text{and}\\ \\ \\  x=C, \\\\\n",
    "\\psi&=0, \\ \\ \\  \\text{for} \\ \\ \\  y=0 \\ \\ \\ \\text{and}\\ \\ \\  y=1.\n",
    "\\end{align}\n",
    "\n",
    "</p>\n",
    "<div class=text-justify> \n",
    "En este sistema aparecen cuatro importantes parámetros que determinan el comportamiento de la solución: el ángulo de inclinación $\\alpha$, el número de Lewis ($Le$), el número de Rayleigh ($Ra$), y la relación de flotación ($N$). Veamos qué significan los tres últimos parámetros.\n",
    "</div></p>\n",
    "\n",
    "El número de Lewis es:\n",
    "\n",
    "\n",
    "\\begin{align}\n",
    "Le=\\frac{\\alpha}{D}\n",
    "\\end{align}\n",
    "\n",
    "</p>\n",
    "<div class=text-justify> \n",
    "Este número mide la relación entre el transporte difusivo de calor y el transporte difusivo de masa. En nuestro problema lo asumiremos con un valor constante de 10, es decir que el transporte difusivo de calor es 10 veces más \"eficiente\" que el de masa.\n",
    "</div></p>\n",
    "\n",
    "El número de Rayleigh está definido como\n",
    "\n",
    "\\begin{align}\n",
    "Ra=\\frac{gB k\\beta_T \\Delta \\bar T}{\\alpha\\nu}\n",
    "\\end{align}\n",
    "\n",
    "</p>\n",
    "<div class=text-justify> \n",
    "El numerador es una medida de la capacidad de flotación que tiene el fluido: gravedad, permeabilidad, coeficiente de expansión volumétrica y diferencia de temperatura característica. El denominador es una medida de la capacidad de transporte de calor y momento por difusión: difusividad térmica y viscosidad cinemática. En nuestro problema suponemos que $Ra>1$ y es como máximo 100.\n",
    "</div></p>\n",
    "\n",
    "Por su parte la relación de flotación se define como:\n",
    "\n",
    "\\begin{align}\n",
    "N=\\frac{\\beta_S  \\Delta \\bar S}{\\beta_T  \\Delta \\bar T}\n",
    "\\end{align}\n",
    "\n",
    "</p>\n",
    "<div class=text-justify> \n",
    "Compara la capacidad de flotación por efectos de disolución del soluto con respecto a la flotación debida gradientes de temperatura.\n",
    "</div></p>\n",
    "\n",
    "En este ejercicio podremos especificar el ángulo de inclinación del medio, el número de Rayleigh y la relación de flotación.\n"
   ]
  },
  {
   "cell_type": "markdown",
   "id": "838a9709",
   "metadata": {},
   "source": [
    "### $\\color{red}{\\text{Ejercicio 1}}$\n",
    "\n",
    "</p>\n",
    "<div class=text-justify>\n",
    "Un acuífero profundo de 100 m de espesor presenta una permeabilidad $k=$ 1E-13 m$^{2}$ y está sometido a un intenso gradiente geotérmico de 80 °C/km. El agua en el acuífero presenta una difusividad térmica de $\\alpha=$ 6.5E-8 m$^{2}$/s, una viscosidad cinemática de $\\nu=$ 3.5E-7 m$^{2}$/s y un coeficiente de expansión volumétrica de  $\\beta =$ 6.52E-4 (1/°C). Si la diferencia de temperatura característica se toma con respecto a la base y la cima del acuífero, ¿Cuál sería el número de Rayleigh del sistema?\n",
    "</div></p>\n",
    "\n",
    "Si el espesor del estrato fuera mayor, ¿esto favorecería o perjudicaría al efecto de flotación?\n",
    "\n",
    "\n",
    "¿Cuál consideras que puede ser el efecto del ángulo de inclinación? ¿Más o menos efectos de flotación?"
   ]
  },
  {
   "cell_type": "markdown",
   "id": "6362c66a",
   "metadata": {
    "deletable": false,
    "nbgrader": {
     "cell_type": "markdown",
     "checksum": "420f5a9cf4c811eaa49f723b3199c95c",
     "grade": true,
     "grade_id": "cell-aeb044c0386920ea",
     "locked": false,
     "points": 1,
     "schema_version": 3,
     "solution": true,
     "task": false
    }
   },
   "source": [
    "YOUR ANSWER HERE"
   ]
  },
  {
   "cell_type": "markdown",
   "id": "d76e78f9",
   "metadata": {},
   "source": [
    "### Modelo numérico\n",
    "\n",
    "</p>\n",
    "<div class=text-justify> El modelo numérico consta de tres etapas. La primera de ellas tiene que ver con el hecho de que se tiene un sistema de tres ecuaciones diferenciales, que requieren satisfacerse de manera simultánea para cada paso de tiempo considerado. Para ello se recurre a un algoritmo iterativo de punto fijo. Análogamente a la solución iterativa de sistemas de ecuaciones lineales algebraicas, los métodos iterativos para sistemas de ecuaciones diferenciales permiten obtener soluciones que satisfacen al sistema con un error pequeño (detalles de este algoritmo se pueden consultar en Báez y Nicolás (2006)). Esto implica que para cada paso de tiempo considerado en la simulación se deberán resolver las tres ecuaciones diferenciales varias veces hasta satisfacer la tolerancia, que en este caso es de $10^{-6}$.</div></p>\n",
    "\n",
    "\n",
    "</p>\n",
    "<div class=text-justify> La segunda etapa se asocia a la solución de las ecuaciones diferenciales individualmente. Para ello se puede recurrir a una variedad de métodos, tales como diferencias finitas, elemento finito y volumen finito. En este caso se empleará el método de volumen finito, el cual se aplica en una malla uniforme de 100x100 elementos. </div></p>\n",
    "\n",
    "</p>\n",
    "<div class=text-justify> Finalmente, la tercera etapa tiene que ver con la solución de los sistemas algebraicos lineales asociados a cada ecuación diferencial. Este ejemplo contiene tres opciones de solución a elección del usuario: Gauss-Seidel, SOR y Gradiente Conjugado.</div></p>\n",
    "\n",
    "<center><img src=\"algoritmo.jpg\" alt=\"drawing\" width=\"800\"/><center>\n",
    "<center> Figura 2. Tres etapas de aplicación de análisis numérico</center>\n"
   ]
  },
  {
   "cell_type": "markdown",
   "id": "a04ddbdb",
   "metadata": {},
   "source": [
    "### Análisis de la solución\n",
    "\n",
    "\n",
    "**Comportamiento físico del problema**\n",
    "</p>\n",
    "<div class=text-justify>\n",
    "Nuestro análisis de la solución se centrará en cuantificar tres aspectos del sistema: flujo de calor a través de la tapa del medio poroso, flujo de masa en la tapa del medio y saturación del fluido con el soluto. Estas tres medidas del comportamiento del sistema serán funciones del tiempo.</div></p>\n",
    " \n",
    " *A) Flujo de calor en la tapa: número de Nusselt*\n",
    "\n",
    "</p>\n",
    "<div class=text-justify>\n",
    "Dado que el flujo de calor es proporcional al gradiente de temperatura, esta medida se obtiene mediente la integración del gradietne en la tapa del medio. Es posible que el flujo de calor no sea uniforme a lo largo de la tapa, es decir, será una función de $x$, por lo que una medida global sería la integral del gradiente de temperatura didvidida entre el largo (que en este caso es 1).</div></p>\n",
    "\n",
    "\\begin{align}\n",
    "Nu(t)=\\int_0^1\\left|\\frac{dT}{dy}\\right|_{y=1}dx\n",
    "\\end{align}\n",
    "\n",
    " *B) Flujo de masa en la tapa: número de Sherwood*\n",
    "\n",
    "Por su parte, la entrada de soluto en la cavidad se puede cuantificar de manera análoga.\n",
    "\n",
    "\\begin{align}\n",
    "Sh(t)=\\int_0^1\\left|\\frac{dS}{dy}\\right|_{y=1}dx\n",
    "\\end{align}\n",
    "\n",
    "*C) Saturación del soluto en el medio poroso.*\n",
    "\n",
    "El grado de disolución del soluto en el fluido será simplemente la suma de las concentraciones dividida entre el área total\n",
    "\n",
    "\\begin{align}\n",
    "Sa(t)=\\frac{\\int SdA}{A}\n",
    "\\end{align}\n",
    "\n",
    "**Desempeño de la solución numérica**\n",
    "\n",
    "</p>\n",
    "<div class=text-justify>\n",
    "El desempeño de la solución se puede elavuar con diversos enforques: tiempo de cómputo, recursos consumidos (memoria RAM), numero de iteraciónes, entre otros. En este ejercicio nos enfocaremos en el número de iteraciones requerido por el algoritmo de solución de sistemas de ecuaciones lineales algebráicas (Figura 2). Conoceremos el número de itereaciones requerido por cada ecuación de transporte (calor, masa y momento) y por cada paso de tiempo. Esto da lugar a tres parámetros de salida del modelo, que llamaremos </div></p>\n",
    "\n",
    "\\begin{align}\n",
    "F(t): \\text{Número de iteraciones requerido por la ecuación de transferencia de calor}\n",
    "\\end{align}\n",
    "\\begin{align}\n",
    "G(t): \\text{Número de iteraciones requerido por la ecuación de transferencia de masa}\n",
    "\\end{align}\n",
    "\\begin{align}\n",
    "H(t): \\text{Número de iteraciones requerido por la ecuación de transferencia de momento}\n",
    "\\end{align}\n",
    "\n",
    "\n"
   ]
  },
  {
   "cell_type": "markdown",
   "id": "190ec9bf",
   "metadata": {},
   "source": [
    "#### REFERENCIAS\n",
    "\n",
    "* Báez, E. and Nicolás, A. (2006), ‘2D natural convection flows in tilted cavities: porous media and homogeneous fluids’, Int. J. Heat Mass Transfer 49, 4773–4785.\n",
    "\n",
    "* Bickle, M. J. (2009), ‘Geological carbon storage’, Nature Geoscience 2(12), 815–818.\n",
    "\n",
    "* Ennis-King, J. and Paterson, L. (2005), ‘Role of convective mixing in the long-term storage of carbon dioxide in deep saline formations’, SPE Journal, SEP, 3, 349-356.\n"
   ]
  },
  {
   "cell_type": "code",
   "execution_count": null,
   "id": "6449b6a8",
   "metadata": {
    "scrolled": true
   },
   "outputs": [],
   "source": [
    "from simuladorGeo import SimuladorGeo\n",
    "simulador = SimuladorGeo()\n",
    "\n",
    "simulador.IniciarEjercicio()"
   ]
  },
  {
   "cell_type": "code",
   "execution_count": null,
   "id": "98549085",
   "metadata": {},
   "outputs": [],
   "source": [
    "simulador.graficaSimulacion()"
   ]
  },
  {
   "cell_type": "markdown",
   "id": "c9359163",
   "metadata": {},
   "source": [
    "### $\\color{red}{\\text{Ejercicio 2}}$\n",
    "\n",
    "</p>\n",
    "<div class=text-justify> Si el número de Sherwood mide la disolución del soluto a través de la cima del estrato poroso ¿cuál es el comportamiento esperado de este número a largo plazo? </p>\n",
    "\n",
    "- Disminuye\n",
    "- Aumenta\n",
    "- Se mantiene estable\n",
    "\n",
    "¿Y respecto al número de Nusselt?\n",
    "\n",
    "- Disminuye\n",
    "- Aumenta\n",
    "- Se mantiene estable"
   ]
  },
  {
   "cell_type": "markdown",
   "id": "6abe98eb",
   "metadata": {
    "deletable": false,
    "nbgrader": {
     "cell_type": "markdown",
     "checksum": "b2e0794bf4d9a7b88dcec8ac3111afeb",
     "grade": true,
     "grade_id": "cell-b7bd37e6f53cbd3d",
     "locked": false,
     "points": 1,
     "schema_version": 3,
     "solution": true,
     "task": false
    }
   },
   "source": [
    "YOUR ANSWER HERE"
   ]
  },
  {
   "cell_type": "markdown",
   "id": "6509c516",
   "metadata": {},
   "source": [
    "### $\\color{red}{\\text{Ejercicio 3}}$\n",
    "\n",
    "</p>\n",
    "<div class=text-justify> Ejecuta el simulador para el número de Rayleigh obtenido en el Ejercicio 1 (redondea a entero) y una relación de flotación de 10. Considera un tiempo de 25 mil pasos y un ángulo de 0°. Posteriormente repite para un ángulo de 2°. Toma nota de la saturación $S_a$ al final de cada caso. ¿Cuál es el cociente de las saturaciones finales?</div></p>\n",
    "\n"
   ]
  },
  {
   "cell_type": "markdown",
   "id": "e6418b95",
   "metadata": {
    "deletable": false,
    "nbgrader": {
     "cell_type": "markdown",
     "checksum": "31b9bbf0c3453e12773e759f8b9c79d5",
     "grade": true,
     "grade_id": "cell-37effb775ba6aa66",
     "locked": false,
     "points": 1,
     "schema_version": 3,
     "solution": true,
     "task": false
    }
   },
   "source": [
    "YOUR ANSWER HERE"
   ]
  },
  {
   "cell_type": "markdown",
   "id": "8c8fdd03",
   "metadata": {},
   "source": [
    "### $\\color{red}{\\text{Ejercicio 4}}$\n",
    "</p>\n",
    "<div class=text-justify>De acuerdo con la definición del número de Nusselt, éste se puede interpretar como el flujo de calor global en la cima del medio poroso. Observa qué diferencias existen entre la simulación realizada en el Ejercicio 3 a 0º y la obtenida con el número de Rayleigh multiplicado por 3. </div></p>\n",
    "\n",
    "\n",
    "¿Qué diferencias observas? \n",
    "\n",
    "\n",
    "A partir de la visualización ¿Puedes dar una posible explicación a las diferencias observadas?"
   ]
  },
  {
   "cell_type": "markdown",
   "id": "efac6adb",
   "metadata": {
    "deletable": false,
    "nbgrader": {
     "cell_type": "markdown",
     "checksum": "f744c1bbc3fdc4d3a549c86e060fa831",
     "grade": true,
     "grade_id": "cell-0524ded1795174ef",
     "locked": false,
     "points": 1,
     "schema_version": 3,
     "solution": true,
     "task": false
    }
   },
   "source": [
    "YOUR ANSWER HERE"
   ]
  },
  {
   "cell_type": "markdown",
   "id": "ed93afa8",
   "metadata": {},
   "source": [
    "### $\\color{red}{\\text{Ejercicio 5}}$\n",
    "\n",
    "<p style='text-align: justify;'> Evalúa el desempeño de los tres diferentes solucionadores para el caso planteado en el Ejercicio 3 a 0° (fija el parámetro de relajación SOR en 0.9). </p>\n",
    "\n",
    "¿Cuál de las ecuaciones demanda más iteraciones a cada algoritmo?\n",
    "\n",
    "¿Se puede distinguir alguna diferencia en el desempeño de los solucionadores? ¿Cuál de ellos requiere más o menos iteraciones?"
   ]
  },
  {
   "cell_type": "markdown",
   "id": "9ce8dd8e",
   "metadata": {
    "deletable": false,
    "nbgrader": {
     "cell_type": "markdown",
     "checksum": "4623d87c99f59159585b58735a6db67c",
     "grade": true,
     "grade_id": "cell-57893f0b2d53db48",
     "locked": false,
     "points": 1,
     "schema_version": 3,
     "solution": true,
     "task": false
    }
   },
   "source": [
    "YOUR ANSWER HERE"
   ]
  }
 ],
 "metadata": {
  "kernelspec": {
   "display_name": "Python 3 (ipykernel)",
   "language": "python",
   "name": "python3"
  },
  "language_info": {
   "codemirror_mode": {
    "name": "ipython",
    "version": 3
   },
   "file_extension": ".py",
   "mimetype": "text/x-python",
   "name": "python",
   "nbconvert_exporter": "python",
   "pygments_lexer": "ipython3",
   "version": "3.9.13"
  }
 },
 "nbformat": 4,
 "nbformat_minor": 5
}
